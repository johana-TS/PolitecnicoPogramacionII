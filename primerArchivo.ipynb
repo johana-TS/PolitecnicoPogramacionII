{
 "cells": [
  {
   "cell_type": "markdown",
   "metadata": {},
   "source": [
    "#Inicializacion en Git\n",
    "    >Diccionario"
   ]
  },
  {
   "cell_type": "code",
   "execution_count": 1,
   "metadata": {},
   "outputs": [
    {
     "name": "stdout",
     "output_type": "stream",
     "text": [
      "Avenida Siempre Viva\n"
     ]
    }
   ],
   "source": [
    "persona = {\n",
    "    \"nombre\": \"Juan Pérez\",\n",
    "    \"edad\": 30,\n",
    "    \"género\": \"Masculino\",\n",
    "    \"correo_electrónico\": \"juan.perez@example.com\",\n",
    "    \"direccion\": {\n",
    "        \"calle\": \"Avenida Siempre Viva\",\n",
    "        \"número\": 742,\n",
    "        \"ciudad\": \"Springfield\",\n",
    "        \"país\": \"Estados Unidos\"\n",
    "    },\n",
    "    \"teléfonos\": [\"+1 123-456-7890\", \"+1 098-765-4321\"],\n",
    "    \"ocupación\": \"Ingeniero de Software\",\n",
    "    \"hobbies\": [\"leer\", \"viajar\", \"programar\"]\n",
    "}\n",
    "\n",
    "print(persona['direccion']['calle'])"
   ]
  }
 ],
 "metadata": {
  "kernelspec": {
   "display_name": "Python 3",
   "language": "python",
   "name": "python3"
  },
  "language_info": {
   "codemirror_mode": {
    "name": "ipython",
    "version": 3
   },
   "file_extension": ".py",
   "mimetype": "text/x-python",
   "name": "python",
   "nbconvert_exporter": "python",
   "pygments_lexer": "ipython3",
   "version": "3.11.5"
  }
 },
 "nbformat": 4,
 "nbformat_minor": 2
}
