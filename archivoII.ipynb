{
 "cells": [
  {
   "cell_type": "code",
   "execution_count": null,
   "metadata": {},
   "outputs": [],
   "source": [
    "#Correccion de visualizacion del archivo "
   ]
  },
  {
   "cell_type": "markdown",
   "metadata": {},
   "source": [
    "# El simbolo \"#'  da error luego del pull "
   ]
  }
 ],
 "metadata": {
  "language_info": {
   "name": "python"
  }
 },
 "nbformat": 4,
 "nbformat_minor": 2
}
